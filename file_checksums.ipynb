{
 "cells": [
  {
   "cell_type": "markdown",
   "id": "42c3eaa7-56b9-4454-8289-cf697240a946",
   "metadata": {},
   "source": [
    "# bash commands to create and verify checksums to ensure file integity on a storage\n"
   ]
  },
  {
   "cell_type": "markdown",
   "id": "12666c8d-88a5-41b4-a0cd-537ede341688",
   "metadata": {},
   "source": [
    "## method 1\n"
   ]
  },
  {
   "cell_type": "markdown",
   "id": "01d6c21a",
   "metadata": {},
   "source": [
    "relative paths, current directory with it's subdirectories, overwrites existing checksum file\n"
   ]
  },
  {
   "cell_type": "markdown",
   "id": "d6c178b3-b978-4671-bc06-7692cff75e3a",
   "metadata": {},
   "source": [
    "#### on a MacOS\n"
   ]
  },
  {
   "cell_type": "markdown",
   "id": "b4803c9c-9afe-452b-91b7-f4d7e0b0d3bb",
   "metadata": {},
   "source": [
    "create:\n",
    "\n",
    "```\n",
    "find . -type f -exec md5 -r {} \\; > checksums.md5\n",
    "```\n",
    "\n",
    "verify:\n",
    "\n",
    "```\n",
    "while read -r checksum file; do\n",
    "    calculated_checksum=$(md5 -r \"$file\" | awk '{print $1}')\n",
    "    if [[ $checksum != $calculated_checksum ]]; then\n",
    "        echo \"Checksum verification failed for $file\"\n",
    "    fi\n",
    "done < checksums.md5\n",
    "```\n"
   ]
  },
  {
   "cell_type": "markdown",
   "id": "6395886a-1007-428d-a0d8-a831d33007e4",
   "metadata": {},
   "source": [
    "#### on Linux\n"
   ]
  },
  {
   "cell_type": "markdown",
   "id": "79f0a800-5a73-4d1f-8d48-b3449de7e8d3",
   "metadata": {},
   "source": [
    "create:\n",
    "\n",
    "```\n",
    "find . -type f -exec md5sum {} \\; > checksums.md5\n",
    "```\n",
    "\n",
    "verify:\n",
    "\n",
    "```\n",
    "while read -r checksum file; do\n",
    "    calculated_checksum=$(md5sum \"$file\" | awk '{print $1}')\n",
    "    if [[ $checksum != $calculated_checksum ]]; then\n",
    "        echo \"Checksum verification failed for $file\"\n",
    "    fi\n",
    "done < checksums.md5\n",
    "```\n"
   ]
  },
  {
   "cell_type": "markdown",
   "id": "d2e36de8-74be-46aa-9648-5ba17577d9a6",
   "metadata": {},
   "source": [
    "## method 2\n"
   ]
  },
  {
   "cell_type": "markdown",
   "id": "3c17fa1e",
   "metadata": {},
   "source": [
    "relative paths, current directory only\n"
   ]
  },
  {
   "cell_type": "markdown",
   "id": "68dc0adb-6bcf-4e39-84d4-cdd0e007e0cb",
   "metadata": {},
   "source": [
    "#### on Linux\n"
   ]
  },
  {
   "cell_type": "markdown",
   "id": "ac3b496b-464d-483a-8c45-129b59131131",
   "metadata": {},
   "source": [
    "create:\n",
    "\n",
    "```\n",
    "md5sum * > checklist.chk\n",
    "```\n",
    "\n",
    "verify:\n",
    "\n",
    "```\n",
    "md5sum -c checklist.chk\n",
    "```\n"
   ]
  },
  {
   "cell_type": "markdown",
   "id": "0e34b385-252c-4262-827c-f9f0c3feb2a5",
   "metadata": {},
   "source": [
    "## method 3\n"
   ]
  },
  {
   "cell_type": "markdown",
   "id": "a5d009b1",
   "metadata": {},
   "source": [
    "relative paths, current directory with it's subdirectories, one checksum file per directory, doesn't overwrite existing checksum files, displays progress\n"
   ]
  },
  {
   "cell_type": "markdown",
   "id": "3e2926b2-acfe-45d2-aab4-63c5aabd1551",
   "metadata": {},
   "source": [
    "#### on Linux\n"
   ]
  },
  {
   "cell_type": "markdown",
   "id": "1db55d1e-f936-459c-9661-5987bceed65f",
   "metadata": {},
   "source": [
    "https://askubuntu.com/questions/318530/generate-md5-checksum-for-all-files-in-a-directory\n"
   ]
  },
  {
   "cell_type": "markdown",
   "id": "dbc10e05-605e-4b63-be6d-c669fd097411",
   "metadata": {},
   "source": [
    "create:\n",
    "\n",
    "```\n",
    "find \"$PWD\" -type d | sort | while read dir; do cd \"${dir}\"; [ ! -f @md5Sum.md5 ] && echo \"Processing \" \"${dir}\" || echo \"Skipped \" \"${dir}\" \" @md5Sum.md5 already present\" ; [ ! -f @md5Sum.md5 ] &&  md5sum * > @md5Sum.md5 ; chmod a=r \"${dir}\"/@md5Sum.md5 ;done\n",
    "```\n",
    "\n",
    "verify:\n",
    "\n",
    "```\n",
    "find \"$PWD\" -name @md5Sum.md5 | sort | while read file; do cd \"${file%/*}\"; md5sum -c @md5Sum.md5; done > checklog.txt\n",
    "```\n"
   ]
  },
  {
   "cell_type": "markdown",
   "id": "abc10f5d-3f34-48f7-a369-41e890b28328",
   "metadata": {},
   "source": [
    "#### analyze the checksum check log\n"
   ]
  },
  {
   "cell_type": "code",
   "execution_count": null,
   "id": "90320597-bb81-495b-8037-e4d95b73d509",
   "metadata": {},
   "outputs": [],
   "source": [
    "import pandas as pd\n",
    "\n",
    "log_file_name = \"checklog.txt\"\n",
    "df = pd.read_csv(log_file_name, sep=\":\", header=None, names=[\"file\", \"result\"])\n",
    "df_bad = df[~df[\"result\"].str.contains(\"OK\")]\n",
    "print(\"total:\", len(df))\n",
    "print(\"bad:\", len(df_bad))\n",
    "df_bad.tail(10)"
   ]
  }
 ],
 "metadata": {
  "kernelspec": {
   "display_name": "Python [conda env:ml_env]",
   "language": "python",
   "name": "conda-env-ml_env-py"
  },
  "language_info": {
   "codemirror_mode": {
    "name": "ipython",
    "version": 3
   },
   "file_extension": ".py",
   "mimetype": "text/x-python",
   "name": "python",
   "nbconvert_exporter": "python",
   "pygments_lexer": "ipython3",
   "version": "3.10.12"
  }
 },
 "nbformat": 4,
 "nbformat_minor": 5
}
